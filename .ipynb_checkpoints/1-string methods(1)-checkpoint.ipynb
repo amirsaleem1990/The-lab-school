{
 "cells": [
  {
   "cell_type": "code",
   "execution_count": 2,
   "metadata": {},
   "outputs": [
    {
     "name": "stdout",
     "output_type": "stream",
     "text": [
      "['__add__', '__class__', '__contains__', '__delattr__', '__dir__', '__doc__', '__eq__', '__format__', '__ge__', '__getattribute__', '__getitem__', '__getnewargs__', '__gt__', '__hash__', '__init__', '__init_subclass__', '__iter__', '__le__', '__len__', '__lt__', '__mod__', '__mul__', '__ne__', '__new__', '__reduce__', '__reduce_ex__', '__repr__', '__rmod__', '__rmul__', '__setattr__', '__sizeof__', '__str__', '__subclasshook__', 'capitalize', 'casefold', 'center', 'count', 'encode', 'endswith', 'expandtabs', 'find', 'format', 'format_map', 'index', 'isalnum', 'isalpha', 'isdecimal', 'isdigit', 'isidentifier', 'islower', 'isnumeric', 'isprintable', 'isspace', 'istitle', 'isupper', 'join', 'ljust', 'lower', 'lstrip', 'maketrans', 'partition', 'replace', 'rfind', 'rindex', 'rjust', 'rpartition', 'rsplit', 'rstrip', 'split', 'splitlines', 'startswith', 'strip', 'swapcase', 'title', 'translate', 'upper', 'zfill']\n"
     ]
    }
   ],
   "source": [
    "print(dir(str))"
   ]
  },
  {
   "cell_type": "code",
   "execution_count": 9,
   "metadata": {},
   "outputs": [],
   "source": [
    "orignal_text = \"this is my computer\"\n",
    "def orig():\n",
    "    print(\"Orignal_text:     \", orignal_text)"
   ]
  },
  {
   "cell_type": "markdown",
   "metadata": {},
   "source": [
    "# capitalize\n",
    "#### capitalize giving string"
   ]
  },
  {
   "cell_type": "code",
   "execution_count": 10,
   "metadata": {},
   "outputs": [
    {
     "name": "stdout",
     "output_type": "stream",
     "text": [
      "Orignal_text:      this is my computer\n",
      "Modified version:  This is my computer\n"
     ]
    }
   ],
   "source": [
    "orig()\n",
    "print(\"Modified version: \", orignal_text.capitalize())"
   ]
  },
  {
   "cell_type": "markdown",
   "metadata": {},
   "source": [
    "# casefold\n",
    "#### same as lower() for english language"
   ]
  },
  {
   "cell_type": "code",
   "execution_count": 18,
   "metadata": {},
   "outputs": [
    {
     "name": "stdout",
     "output_type": "stream",
     "text": [
      "Orignal_text:      this is my computer\n",
      "Modified version:  this is my computer\n"
     ]
    }
   ],
   "source": [
    "orig()\n",
    "print(\"Modified version: \", orignal_text.casefold())"
   ]
  },
  {
   "cell_type": "markdown",
   "metadata": {},
   "source": [
    "# center\n",
    "#### fill white space in both side of string equaly, and get string as lenght given in parameter"
   ]
  },
  {
   "cell_type": "code",
   "execution_count": 32,
   "metadata": {},
   "outputs": [
    {
     "name": "stdout",
     "output_type": "stream",
     "text": [
      "Orignal_text:      this is my computer\n",
      "Modified version:                           this is my computer                          \n"
     ]
    }
   ],
   "source": [
    "orig()\n",
    "print(\"Modified version: \", orignal_text.center(70))"
   ]
  },
  {
   "cell_type": "markdown",
   "metadata": {},
   "source": [
    "# count\n",
    "#### count of particuler sub-string/char in givin string"
   ]
  },
  {
   "cell_type": "code",
   "execution_count": 40,
   "metadata": {},
   "outputs": [
    {
     "name": "stdout",
     "output_type": "stream",
     "text": [
      "Orignal_text:      this is my computer\n",
      "2\n",
      "1\n"
     ]
    }
   ],
   "source": [
    "orig()\n",
    "print(orignal_text.count(\"m\"))\n",
    "print(orignal_text.count(\"r\"))"
   ]
  },
  {
   "cell_type": "markdown",
   "metadata": {},
   "source": [
    "# encode\n",
    "#### encode to UTF-8 (by default) or ASCII"
   ]
  },
  {
   "cell_type": "code",
   "execution_count": 58,
   "metadata": {},
   "outputs": [
    {
     "name": "stdout",
     "output_type": "stream",
     "text": [
      "b'pythn'\n",
      "b'pyth?n'\n"
     ]
    }
   ],
   "source": [
    "print(\"pythön\".encode(\"ascii\", \"ignore\"))\n",
    "print(\"pythön\".encode(\"ascii\", \"replace\"))"
   ]
  },
  {
   "cell_type": "markdown",
   "metadata": {},
   "source": [
    "# endswith\n",
    "#### take substring, and check is orignal string ends with that substring return True, else return False"
   ]
  },
  {
   "cell_type": "code",
   "execution_count": 63,
   "metadata": {},
   "outputs": [
    {
     "name": "stdout",
     "output_type": "stream",
     "text": [
      "Orignal_text:      this is my computer\n",
      "'tm' False\n",
      "'er' True\n",
      "'Er' False\n",
      "'is my computer' True\n"
     ]
    }
   ],
   "source": [
    "orig()\n",
    "print(\"'tm'\", orignal_text.endswith(\"tm\"))\n",
    "print(\"'er'\", orignal_text.endswith(\"er\"))\n",
    "print(\"'Er'\", orignal_text.endswith(\"Er\"))\n",
    "print(\"'is my computer'\", orignal_text.endswith(\"is my computer\"))"
   ]
  },
  {
   "cell_type": "markdown",
   "metadata": {},
   "source": [
    "# expandtabs\n",
    "#### the tab <\\t> is by default is 4 spaces, if you want to modify this 4, you can do that by str.expandtabs()"
   ]
  },
  {
   "cell_type": "code",
   "execution_count": 76,
   "metadata": {},
   "outputs": [
    {
     "name": "stdout",
     "output_type": "stream",
     "text": [
      "Orignal_text:  Amir\tSaleem\n",
      "Amir           Saleem\n",
      "Amir  Saleem\n",
      "Amir Saleem\n"
     ]
    }
   ],
   "source": [
    "x = \"Amir\\tSaleem\"\n",
    "print(\"Orignal_text: \", x)\n",
    "print(x.expandtabs(15)) # all tabs has become 15 spaces\n",
    "print(x.expandtabs(2))  # all tabs has become 2 spaces\n",
    "print(x.expandtabs(1))  # all tabs has become 1 spaces"
   ]
  },
  {
   "cell_type": "markdown",
   "metadata": {},
   "source": [
    "# find\n",
    "#### retern substring (first occurrence) index number if substring is in string, else: return <-1>"
   ]
  },
  {
   "cell_type": "code",
   "execution_count": 90,
   "metadata": {},
   "outputs": [
    {
     "name": "stdout",
     "output_type": "stream",
     "text": [
      "Orignal_text:      this is my computer\n",
      "i\t\t   2\n",
      "te\t\t   16\n",
      "my computer\t   8\n",
      "z\t\t   -1\n"
     ]
    }
   ],
   "source": [
    "orig()\n",
    "print(\"i\\t\\t  \",           orignal_text.find(\"i\"))\n",
    "print(\"te\\t\\t  \",          orignal_text.find(\"te\"))\n",
    "print(\"my computer\\t  \",   orignal_text.find(\"my computer\"))\n",
    "print(\"z\\t\\t  \",           orignal_text.find(\"z\"))"
   ]
  },
  {
   "cell_type": "markdown",
   "metadata": {},
   "source": [
    "# format\n",
    "#### addition in string"
   ]
  },
  {
   "cell_type": "code",
   "execution_count": 95,
   "metadata": {},
   "outputs": [
    {
     "name": "stdout",
     "output_type": "stream",
     "text": [
      "My name is amir\n",
      "My age is 27\n"
     ]
    },
    {
     "ename": "IndexError",
     "evalue": "tuple index out of range",
     "output_type": "error",
     "traceback": [
      "\u001b[0;31m---------------------------------------------------------------------------\u001b[0m",
      "\u001b[0;31mIndexError\u001b[0m                                Traceback (most recent call last)",
      "\u001b[0;32m<ipython-input-95-b2e8931f52cf>\u001b[0m in \u001b[0;36m<module>\u001b[0;34m\u001b[0m\n\u001b[1;32m      2\u001b[0m \u001b[0mprint\u001b[0m\u001b[0;34m(\u001b[0m\u001b[0mx\u001b[0m\u001b[0;34m.\u001b[0m\u001b[0mformat\u001b[0m\u001b[0;34m(\u001b[0m\u001b[0;34m'name'\u001b[0m\u001b[0;34m,\u001b[0m \u001b[0;34m'amir'\u001b[0m\u001b[0;34m)\u001b[0m\u001b[0;34m)\u001b[0m \u001b[0;31m# My name is amir\u001b[0m\u001b[0;34m\u001b[0m\u001b[0;34m\u001b[0m\u001b[0m\n\u001b[1;32m      3\u001b[0m \u001b[0mprint\u001b[0m\u001b[0;34m(\u001b[0m\u001b[0mx\u001b[0m\u001b[0;34m.\u001b[0m\u001b[0mformat\u001b[0m\u001b[0;34m(\u001b[0m\u001b[0;34m'age'\u001b[0m\u001b[0;34m,\u001b[0m \u001b[0;36m27\u001b[0m\u001b[0;34m)\u001b[0m\u001b[0;34m)\u001b[0m      \u001b[0;31m# My age is 27\u001b[0m\u001b[0;34m\u001b[0m\u001b[0;34m\u001b[0m\u001b[0m\n\u001b[0;32m----> 4\u001b[0;31m \u001b[0mprint\u001b[0m\u001b[0;34m(\u001b[0m\u001b[0mx\u001b[0m\u001b[0;34m.\u001b[0m\u001b[0mformat\u001b[0m\u001b[0;34m(\u001b[0m\u001b[0;34m'name'\u001b[0m\u001b[0;34m)\u001b[0m\u001b[0;34m)\u001b[0m         \u001b[0;31m# Error, we have to give 2 parameters\u001b[0m\u001b[0;34m\u001b[0m\u001b[0;34m\u001b[0m\u001b[0m\n\u001b[0m",
      "\u001b[0;31mIndexError\u001b[0m: tuple index out of range"
     ]
    }
   ],
   "source": [
    "x = \"My {} is {}\"\n",
    "print(x.format('name', 'amir')) # My name is amir\n",
    "print(x.format('age', 27))      # My age is 27\n",
    "print(x.format('name'))         # Error, we have to give 2 parameters"
   ]
  },
  {
   "cell_type": "code",
   "execution_count": null,
   "metadata": {},
   "outputs": [],
   "source": []
  }
 ],
 "metadata": {
  "kernelspec": {
   "display_name": "Python 3",
   "language": "python",
   "name": "python3"
  },
  "language_info": {
   "codemirror_mode": {
    "name": "ipython",
    "version": 3
   },
   "file_extension": ".py",
   "mimetype": "text/x-python",
   "name": "python",
   "nbconvert_exporter": "python",
   "pygments_lexer": "ipython3",
   "version": "3.6.7"
  }
 },
 "nbformat": 4,
 "nbformat_minor": 2
}
